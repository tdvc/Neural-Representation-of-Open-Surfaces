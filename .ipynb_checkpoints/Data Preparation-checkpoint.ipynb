{
 "cells": [
  {
   "cell_type": "markdown",
   "id": "eb38b420",
   "metadata": {},
   "source": [
    "# Data preparation\n",
    "The purpose of this simple notebook is to center and scale meshes, so they fit inside the unit sphere. The meshes are scaled, so that the relative size between the meshes stay the same.\n",
    "\n",
    "Note: In this code, the meshes are assumed to be in .ply-format. If your meshes are in the .obj format, simply exchange hmesh.ply_load with hmesh.obj_load."
   ]
  },
  {
   "cell_type": "code",
   "execution_count": 1,
   "id": "7fe6d59e",
   "metadata": {},
   "outputs": [],
   "source": [
    "import math\n",
    "import os\n",
    "import numpy as np\n",
    "import igl\n",
    "from pygel3d import hmesh"
   ]
  },
  {
   "cell_type": "code",
   "execution_count": 2,
   "id": "17cc17a1",
   "metadata": {},
   "outputs": [],
   "source": [
    "def center_mesh(m):\n",
    "    mean_pos = np.mean(m.positions(),axis=0)\n",
    "    for v in m.vertices():\n",
    "        m.positions()[v] -= mean_pos\n",
    "\n",
    "def scale_mesh(m, scale_factor):\n",
    "    for v in m.vertices():\n",
    "        m.positions()[v] *= scale_factor"
   ]
  },
  {
   "cell_type": "markdown",
   "id": "37ab7dcd",
   "metadata": {},
   "source": [
    "### Data path"
   ]
  },
  {
   "cell_type": "code",
   "execution_count": 3,
   "id": "0dc16721",
   "metadata": {},
   "outputs": [],
   "source": [
    "data_path = os.getcwd()"
   ]
  },
  {
   "cell_type": "markdown",
   "id": "e4615b1a",
   "metadata": {},
   "source": [
    "### Training files\n",
    "A simple list - provide the path to the training files. "
   ]
  },
  {
   "cell_type": "code",
   "execution_count": 4,
   "id": "2d01b6df",
   "metadata": {},
   "outputs": [],
   "source": [
    "train_files = []"
   ]
  },
  {
   "cell_type": "markdown",
   "id": "cde9ae2c",
   "metadata": {},
   "source": [
    "### Test Files\n",
    "A simple list - provide the path to the test files. "
   ]
  },
  {
   "cell_type": "code",
   "execution_count": 5,
   "id": "2ec04993",
   "metadata": {},
   "outputs": [],
   "source": [
    "test_files = []"
   ]
  },
  {
   "cell_type": "markdown",
   "id": "7c943ce8",
   "metadata": {},
   "source": [
    "### Flip normals\n",
    "The normals should be pointing outward"
   ]
  },
  {
   "cell_type": "code",
   "execution_count": 6,
   "id": "ddb4eb8c",
   "metadata": {},
   "outputs": [],
   "source": [
    "flip_normals = True"
   ]
  },
  {
   "cell_type": "markdown",
   "id": "4649cf5f",
   "metadata": {},
   "source": [
    "### Scale and save data"
   ]
  },
  {
   "cell_type": "code",
   "execution_count": 7,
   "id": "4f006d1c",
   "metadata": {},
   "outputs": [],
   "source": [
    "max_diagonal = -math.inf \n",
    "for ii in range(len(train_files)):\n",
    "    m = hmesh.ply_load(train_files[ii])\n",
    "    diagonal = np.linalg.norm(hmesh.bbox(m)[1] - hmesh.bbox(m)[0],ord=2)\n",
    "    if (diagonal > max_diagonal):\n",
    "        max_diagonal = diagonal \n",
    "        \n",
    "for ii in range(len(test_files)):\n",
    "    m = hmesh.ply_load(test_files[ii])\n",
    "    diagonal = np.linalg.norm(hmesh.bbox(m)[1] - hmesh.bbox(m)[0],ord=2)\n",
    "    if (diagonal > max_diagonal):\n",
    "        max_diagonal = diagonal \n",
    "\n",
    "scale_factor = (1.0-1e-2)/diagonal"
   ]
  },
  {
   "cell_type": "markdown",
   "id": "7a07c222",
   "metadata": {},
   "source": [
    "### Training data"
   ]
  },
  {
   "cell_type": "code",
   "execution_count": 8,
   "id": "8660b052",
   "metadata": {},
   "outputs": [],
   "source": [
    "train_data_path = os.path.join(os.getcwd(),\"train\")\n",
    "if not os.path.exists(train_data_path):\n",
    "    os.mkdir(train_data_path)   "
   ]
  },
  {
   "cell_type": "code",
   "execution_count": 9,
   "id": "17e393c8",
   "metadata": {},
   "outputs": [],
   "source": [
    "file_list = open(os.path.join(train_data_path,\"filelist.txt\"), \"w\")"
   ]
  },
  {
   "cell_type": "code",
   "execution_count": 10,
   "id": "c57e86c4",
   "metadata": {},
   "outputs": [],
   "source": [
    "for ii in range(len(train_files)):\n",
    "    file_name = train_files[ii].split(\"/\")[-1].split(\".\")[0]\n",
    "    m = hmesh.ply_load(train_files[ii])\n",
    "    hmesh.triangulate(m)\n",
    "    if (flip_normals):\n",
    "        hmesh.flip_orientation(m)\n",
    "    center_mesh(m)\n",
    "    scale_mesh(m, scale_factor)\n",
    "    hmesh.stitch(m)\n",
    "    m.cleanup()\n",
    "    hmesh.obj_save(os.path.join(train_data_path,file_name+\".obj\"),m)\n",
    "    file_list.write(file_name + \"\\n\")\n",
    "file_list.close()"
   ]
  },
  {
   "cell_type": "markdown",
   "id": "b200f81e",
   "metadata": {},
   "source": [
    "### Test data"
   ]
  },
  {
   "cell_type": "code",
   "execution_count": 11,
   "id": "92a15d12",
   "metadata": {},
   "outputs": [],
   "source": [
    "test_data_path = os.path.join(os.getcwd(),\"test\")\n",
    "if not os.path.exists(test_data_path):\n",
    "    os.mkdir(test_data_path)   "
   ]
  },
  {
   "cell_type": "code",
   "execution_count": 12,
   "id": "567fcd13",
   "metadata": {},
   "outputs": [],
   "source": [
    "file_list = open(os.path.join(test_data_path,\"filelist.txt\"), \"w\")"
   ]
  },
  {
   "cell_type": "code",
   "execution_count": 13,
   "id": "51f7bfcd",
   "metadata": {},
   "outputs": [],
   "source": [
    "for ii in range(len(test_files)):\n",
    "    m = hmesh.ply_load(test_files[ii])\n",
    "    hmesh.triangulate(m)\n",
    "    if (flip_normals):\n",
    "        hmesh.flip_orientation(m)\n",
    "    center_mesh(m)\n",
    "    scale_mesh(m, scale_factor)\n",
    "    file_name = test_files[ii].split(\"/\")[-1].split(\".\")[0]\n",
    "    hmesh.obj_save(os.path.join(test_data_path,file_name),m)\n",
    "    file_list.write(file_name + \"\\n\")\n",
    "file_list.close()"
   ]
  }
 ],
 "metadata": {
  "kernelspec": {
   "display_name": "ssdf",
   "language": "python",
   "name": "ssdf"
  },
  "language_info": {
   "codemirror_mode": {
    "name": "ipython",
    "version": 3
   },
   "file_extension": ".py",
   "mimetype": "text/x-python",
   "name": "python",
   "nbconvert_exporter": "python",
   "pygments_lexer": "ipython3",
   "version": "3.8.16"
  }
 },
 "nbformat": 4,
 "nbformat_minor": 5
}
